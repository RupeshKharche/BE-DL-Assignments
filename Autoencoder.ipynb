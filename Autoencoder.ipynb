{
 "cells": [
  {
   "cell_type": "code",
   "id": "initial_id",
   "metadata": {
    "collapsed": true,
    "ExecuteTime": {
     "end_time": "2024-10-31T16:49:53.410873Z",
     "start_time": "2024-10-31T16:49:53.403596Z"
    }
   },
   "source": [
    "import pandas as pd\n",
    "import numpy as np\n",
    "import matplotlib.pyplot as plt\n",
    "from sklearn.model_selection import train_test_split\n",
    "from sklearn.metrics import classification_report, accuracy_score\n",
    "\n",
    "import tensorflow as tf\n",
    "from tensorflow.keras.layers import Dense, Dropout\n",
    "from tensorflow.keras.models import Model, Sequential"
   ],
   "outputs": [],
   "execution_count": 27
  },
  {
   "metadata": {},
   "cell_type": "markdown",
   "source": "## Loading data",
   "id": "949b4180925a235b"
  },
  {
   "metadata": {
    "ExecuteTime": {
     "end_time": "2024-10-31T16:49:55.899256Z",
     "start_time": "2024-10-31T16:49:54.121398Z"
    }
   },
   "cell_type": "code",
   "source": [
    "data = pd.read_csv(\"./creditcard.csv\")\n",
    "data"
   ],
   "id": "4b80590a8a3a189b",
   "outputs": [
    {
     "data": {
      "text/plain": [
       "            Time         V1         V2        V3        V4        V5  \\\n",
       "0            0.0  -1.359807  -0.072781  2.536347  1.378155 -0.338321   \n",
       "1            0.0   1.191857   0.266151  0.166480  0.448154  0.060018   \n",
       "2            1.0  -1.358354  -1.340163  1.773209  0.379780 -0.503198   \n",
       "3            1.0  -0.966272  -0.185226  1.792993 -0.863291 -0.010309   \n",
       "4            2.0  -1.158233   0.877737  1.548718  0.403034 -0.407193   \n",
       "...          ...        ...        ...       ...       ...       ...   \n",
       "284802  172786.0 -11.881118  10.071785 -9.834783 -2.066656 -5.364473   \n",
       "284803  172787.0  -0.732789  -0.055080  2.035030 -0.738589  0.868229   \n",
       "284804  172788.0   1.919565  -0.301254 -3.249640 -0.557828  2.630515   \n",
       "284805  172788.0  -0.240440   0.530483  0.702510  0.689799 -0.377961   \n",
       "284806  172792.0  -0.533413  -0.189733  0.703337 -0.506271 -0.012546   \n",
       "\n",
       "              V6        V7        V8        V9  ...       V21       V22  \\\n",
       "0       0.462388  0.239599  0.098698  0.363787  ... -0.018307  0.277838   \n",
       "1      -0.082361 -0.078803  0.085102 -0.255425  ... -0.225775 -0.638672   \n",
       "2       1.800499  0.791461  0.247676 -1.514654  ...  0.247998  0.771679   \n",
       "3       1.247203  0.237609  0.377436 -1.387024  ... -0.108300  0.005274   \n",
       "4       0.095921  0.592941 -0.270533  0.817739  ... -0.009431  0.798278   \n",
       "...          ...       ...       ...       ...  ...       ...       ...   \n",
       "284802 -2.606837 -4.918215  7.305334  1.914428  ...  0.213454  0.111864   \n",
       "284803  1.058415  0.024330  0.294869  0.584800  ...  0.214205  0.924384   \n",
       "284804  3.031260 -0.296827  0.708417  0.432454  ...  0.232045  0.578229   \n",
       "284805  0.623708 -0.686180  0.679145  0.392087  ...  0.265245  0.800049   \n",
       "284806 -0.649617  1.577006 -0.414650  0.486180  ...  0.261057  0.643078   \n",
       "\n",
       "             V23       V24       V25       V26       V27       V28  Amount  \\\n",
       "0      -0.110474  0.066928  0.128539 -0.189115  0.133558 -0.021053  149.62   \n",
       "1       0.101288 -0.339846  0.167170  0.125895 -0.008983  0.014724    2.69   \n",
       "2       0.909412 -0.689281 -0.327642 -0.139097 -0.055353 -0.059752  378.66   \n",
       "3      -0.190321 -1.175575  0.647376 -0.221929  0.062723  0.061458  123.50   \n",
       "4      -0.137458  0.141267 -0.206010  0.502292  0.219422  0.215153   69.99   \n",
       "...          ...       ...       ...       ...       ...       ...     ...   \n",
       "284802  1.014480 -0.509348  1.436807  0.250034  0.943651  0.823731    0.77   \n",
       "284803  0.012463 -1.016226 -0.606624 -0.395255  0.068472 -0.053527   24.79   \n",
       "284804 -0.037501  0.640134  0.265745 -0.087371  0.004455 -0.026561   67.88   \n",
       "284805 -0.163298  0.123205 -0.569159  0.546668  0.108821  0.104533   10.00   \n",
       "284806  0.376777  0.008797 -0.473649 -0.818267 -0.002415  0.013649  217.00   \n",
       "\n",
       "        Class  \n",
       "0           0  \n",
       "1           0  \n",
       "2           0  \n",
       "3           0  \n",
       "4           0  \n",
       "...       ...  \n",
       "284802      0  \n",
       "284803      0  \n",
       "284804      0  \n",
       "284805      0  \n",
       "284806      0  \n",
       "\n",
       "[284807 rows x 31 columns]"
      ],
      "text/html": [
       "<div>\n",
       "<style scoped>\n",
       "    .dataframe tbody tr th:only-of-type {\n",
       "        vertical-align: middle;\n",
       "    }\n",
       "\n",
       "    .dataframe tbody tr th {\n",
       "        vertical-align: top;\n",
       "    }\n",
       "\n",
       "    .dataframe thead th {\n",
       "        text-align: right;\n",
       "    }\n",
       "</style>\n",
       "<table border=\"1\" class=\"dataframe\">\n",
       "  <thead>\n",
       "    <tr style=\"text-align: right;\">\n",
       "      <th></th>\n",
       "      <th>Time</th>\n",
       "      <th>V1</th>\n",
       "      <th>V2</th>\n",
       "      <th>V3</th>\n",
       "      <th>V4</th>\n",
       "      <th>V5</th>\n",
       "      <th>V6</th>\n",
       "      <th>V7</th>\n",
       "      <th>V8</th>\n",
       "      <th>V9</th>\n",
       "      <th>...</th>\n",
       "      <th>V21</th>\n",
       "      <th>V22</th>\n",
       "      <th>V23</th>\n",
       "      <th>V24</th>\n",
       "      <th>V25</th>\n",
       "      <th>V26</th>\n",
       "      <th>V27</th>\n",
       "      <th>V28</th>\n",
       "      <th>Amount</th>\n",
       "      <th>Class</th>\n",
       "    </tr>\n",
       "  </thead>\n",
       "  <tbody>\n",
       "    <tr>\n",
       "      <th>0</th>\n",
       "      <td>0.0</td>\n",
       "      <td>-1.359807</td>\n",
       "      <td>-0.072781</td>\n",
       "      <td>2.536347</td>\n",
       "      <td>1.378155</td>\n",
       "      <td>-0.338321</td>\n",
       "      <td>0.462388</td>\n",
       "      <td>0.239599</td>\n",
       "      <td>0.098698</td>\n",
       "      <td>0.363787</td>\n",
       "      <td>...</td>\n",
       "      <td>-0.018307</td>\n",
       "      <td>0.277838</td>\n",
       "      <td>-0.110474</td>\n",
       "      <td>0.066928</td>\n",
       "      <td>0.128539</td>\n",
       "      <td>-0.189115</td>\n",
       "      <td>0.133558</td>\n",
       "      <td>-0.021053</td>\n",
       "      <td>149.62</td>\n",
       "      <td>0</td>\n",
       "    </tr>\n",
       "    <tr>\n",
       "      <th>1</th>\n",
       "      <td>0.0</td>\n",
       "      <td>1.191857</td>\n",
       "      <td>0.266151</td>\n",
       "      <td>0.166480</td>\n",
       "      <td>0.448154</td>\n",
       "      <td>0.060018</td>\n",
       "      <td>-0.082361</td>\n",
       "      <td>-0.078803</td>\n",
       "      <td>0.085102</td>\n",
       "      <td>-0.255425</td>\n",
       "      <td>...</td>\n",
       "      <td>-0.225775</td>\n",
       "      <td>-0.638672</td>\n",
       "      <td>0.101288</td>\n",
       "      <td>-0.339846</td>\n",
       "      <td>0.167170</td>\n",
       "      <td>0.125895</td>\n",
       "      <td>-0.008983</td>\n",
       "      <td>0.014724</td>\n",
       "      <td>2.69</td>\n",
       "      <td>0</td>\n",
       "    </tr>\n",
       "    <tr>\n",
       "      <th>2</th>\n",
       "      <td>1.0</td>\n",
       "      <td>-1.358354</td>\n",
       "      <td>-1.340163</td>\n",
       "      <td>1.773209</td>\n",
       "      <td>0.379780</td>\n",
       "      <td>-0.503198</td>\n",
       "      <td>1.800499</td>\n",
       "      <td>0.791461</td>\n",
       "      <td>0.247676</td>\n",
       "      <td>-1.514654</td>\n",
       "      <td>...</td>\n",
       "      <td>0.247998</td>\n",
       "      <td>0.771679</td>\n",
       "      <td>0.909412</td>\n",
       "      <td>-0.689281</td>\n",
       "      <td>-0.327642</td>\n",
       "      <td>-0.139097</td>\n",
       "      <td>-0.055353</td>\n",
       "      <td>-0.059752</td>\n",
       "      <td>378.66</td>\n",
       "      <td>0</td>\n",
       "    </tr>\n",
       "    <tr>\n",
       "      <th>3</th>\n",
       "      <td>1.0</td>\n",
       "      <td>-0.966272</td>\n",
       "      <td>-0.185226</td>\n",
       "      <td>1.792993</td>\n",
       "      <td>-0.863291</td>\n",
       "      <td>-0.010309</td>\n",
       "      <td>1.247203</td>\n",
       "      <td>0.237609</td>\n",
       "      <td>0.377436</td>\n",
       "      <td>-1.387024</td>\n",
       "      <td>...</td>\n",
       "      <td>-0.108300</td>\n",
       "      <td>0.005274</td>\n",
       "      <td>-0.190321</td>\n",
       "      <td>-1.175575</td>\n",
       "      <td>0.647376</td>\n",
       "      <td>-0.221929</td>\n",
       "      <td>0.062723</td>\n",
       "      <td>0.061458</td>\n",
       "      <td>123.50</td>\n",
       "      <td>0</td>\n",
       "    </tr>\n",
       "    <tr>\n",
       "      <th>4</th>\n",
       "      <td>2.0</td>\n",
       "      <td>-1.158233</td>\n",
       "      <td>0.877737</td>\n",
       "      <td>1.548718</td>\n",
       "      <td>0.403034</td>\n",
       "      <td>-0.407193</td>\n",
       "      <td>0.095921</td>\n",
       "      <td>0.592941</td>\n",
       "      <td>-0.270533</td>\n",
       "      <td>0.817739</td>\n",
       "      <td>...</td>\n",
       "      <td>-0.009431</td>\n",
       "      <td>0.798278</td>\n",
       "      <td>-0.137458</td>\n",
       "      <td>0.141267</td>\n",
       "      <td>-0.206010</td>\n",
       "      <td>0.502292</td>\n",
       "      <td>0.219422</td>\n",
       "      <td>0.215153</td>\n",
       "      <td>69.99</td>\n",
       "      <td>0</td>\n",
       "    </tr>\n",
       "    <tr>\n",
       "      <th>...</th>\n",
       "      <td>...</td>\n",
       "      <td>...</td>\n",
       "      <td>...</td>\n",
       "      <td>...</td>\n",
       "      <td>...</td>\n",
       "      <td>...</td>\n",
       "      <td>...</td>\n",
       "      <td>...</td>\n",
       "      <td>...</td>\n",
       "      <td>...</td>\n",
       "      <td>...</td>\n",
       "      <td>...</td>\n",
       "      <td>...</td>\n",
       "      <td>...</td>\n",
       "      <td>...</td>\n",
       "      <td>...</td>\n",
       "      <td>...</td>\n",
       "      <td>...</td>\n",
       "      <td>...</td>\n",
       "      <td>...</td>\n",
       "      <td>...</td>\n",
       "    </tr>\n",
       "    <tr>\n",
       "      <th>284802</th>\n",
       "      <td>172786.0</td>\n",
       "      <td>-11.881118</td>\n",
       "      <td>10.071785</td>\n",
       "      <td>-9.834783</td>\n",
       "      <td>-2.066656</td>\n",
       "      <td>-5.364473</td>\n",
       "      <td>-2.606837</td>\n",
       "      <td>-4.918215</td>\n",
       "      <td>7.305334</td>\n",
       "      <td>1.914428</td>\n",
       "      <td>...</td>\n",
       "      <td>0.213454</td>\n",
       "      <td>0.111864</td>\n",
       "      <td>1.014480</td>\n",
       "      <td>-0.509348</td>\n",
       "      <td>1.436807</td>\n",
       "      <td>0.250034</td>\n",
       "      <td>0.943651</td>\n",
       "      <td>0.823731</td>\n",
       "      <td>0.77</td>\n",
       "      <td>0</td>\n",
       "    </tr>\n",
       "    <tr>\n",
       "      <th>284803</th>\n",
       "      <td>172787.0</td>\n",
       "      <td>-0.732789</td>\n",
       "      <td>-0.055080</td>\n",
       "      <td>2.035030</td>\n",
       "      <td>-0.738589</td>\n",
       "      <td>0.868229</td>\n",
       "      <td>1.058415</td>\n",
       "      <td>0.024330</td>\n",
       "      <td>0.294869</td>\n",
       "      <td>0.584800</td>\n",
       "      <td>...</td>\n",
       "      <td>0.214205</td>\n",
       "      <td>0.924384</td>\n",
       "      <td>0.012463</td>\n",
       "      <td>-1.016226</td>\n",
       "      <td>-0.606624</td>\n",
       "      <td>-0.395255</td>\n",
       "      <td>0.068472</td>\n",
       "      <td>-0.053527</td>\n",
       "      <td>24.79</td>\n",
       "      <td>0</td>\n",
       "    </tr>\n",
       "    <tr>\n",
       "      <th>284804</th>\n",
       "      <td>172788.0</td>\n",
       "      <td>1.919565</td>\n",
       "      <td>-0.301254</td>\n",
       "      <td>-3.249640</td>\n",
       "      <td>-0.557828</td>\n",
       "      <td>2.630515</td>\n",
       "      <td>3.031260</td>\n",
       "      <td>-0.296827</td>\n",
       "      <td>0.708417</td>\n",
       "      <td>0.432454</td>\n",
       "      <td>...</td>\n",
       "      <td>0.232045</td>\n",
       "      <td>0.578229</td>\n",
       "      <td>-0.037501</td>\n",
       "      <td>0.640134</td>\n",
       "      <td>0.265745</td>\n",
       "      <td>-0.087371</td>\n",
       "      <td>0.004455</td>\n",
       "      <td>-0.026561</td>\n",
       "      <td>67.88</td>\n",
       "      <td>0</td>\n",
       "    </tr>\n",
       "    <tr>\n",
       "      <th>284805</th>\n",
       "      <td>172788.0</td>\n",
       "      <td>-0.240440</td>\n",
       "      <td>0.530483</td>\n",
       "      <td>0.702510</td>\n",
       "      <td>0.689799</td>\n",
       "      <td>-0.377961</td>\n",
       "      <td>0.623708</td>\n",
       "      <td>-0.686180</td>\n",
       "      <td>0.679145</td>\n",
       "      <td>0.392087</td>\n",
       "      <td>...</td>\n",
       "      <td>0.265245</td>\n",
       "      <td>0.800049</td>\n",
       "      <td>-0.163298</td>\n",
       "      <td>0.123205</td>\n",
       "      <td>-0.569159</td>\n",
       "      <td>0.546668</td>\n",
       "      <td>0.108821</td>\n",
       "      <td>0.104533</td>\n",
       "      <td>10.00</td>\n",
       "      <td>0</td>\n",
       "    </tr>\n",
       "    <tr>\n",
       "      <th>284806</th>\n",
       "      <td>172792.0</td>\n",
       "      <td>-0.533413</td>\n",
       "      <td>-0.189733</td>\n",
       "      <td>0.703337</td>\n",
       "      <td>-0.506271</td>\n",
       "      <td>-0.012546</td>\n",
       "      <td>-0.649617</td>\n",
       "      <td>1.577006</td>\n",
       "      <td>-0.414650</td>\n",
       "      <td>0.486180</td>\n",
       "      <td>...</td>\n",
       "      <td>0.261057</td>\n",
       "      <td>0.643078</td>\n",
       "      <td>0.376777</td>\n",
       "      <td>0.008797</td>\n",
       "      <td>-0.473649</td>\n",
       "      <td>-0.818267</td>\n",
       "      <td>-0.002415</td>\n",
       "      <td>0.013649</td>\n",
       "      <td>217.00</td>\n",
       "      <td>0</td>\n",
       "    </tr>\n",
       "  </tbody>\n",
       "</table>\n",
       "<p>284807 rows × 31 columns</p>\n",
       "</div>"
      ]
     },
     "execution_count": 28,
     "metadata": {},
     "output_type": "execute_result"
    }
   ],
   "execution_count": 28
  },
  {
   "metadata": {},
   "cell_type": "markdown",
   "source": "## Exploring data",
   "id": "c6c0481dd790a36e"
  },
  {
   "metadata": {
    "ExecuteTime": {
     "end_time": "2024-10-31T16:49:55.910021Z",
     "start_time": "2024-10-31T16:49:55.901343Z"
    }
   },
   "cell_type": "code",
   "source": "data['Class'].value_counts()",
   "id": "53770efb53175354",
   "outputs": [
    {
     "data": {
      "text/plain": [
       "Class\n",
       "0    284315\n",
       "1       492\n",
       "Name: count, dtype: int64"
      ]
     },
     "execution_count": 29,
     "metadata": {},
     "output_type": "execute_result"
    }
   ],
   "execution_count": 29
  },
  {
   "metadata": {
    "ExecuteTime": {
     "end_time": "2024-10-31T16:49:56.913767Z",
     "start_time": "2024-10-31T16:49:56.877269Z"
    }
   },
   "cell_type": "code",
   "source": [
    "X = data.drop(['Class', 'Time'], axis=1)\n",
    "y = data['Class']"
   ],
   "id": "bd8a96d3bac4b2a5",
   "outputs": [],
   "execution_count": 30
  },
  {
   "metadata": {
    "ExecuteTime": {
     "end_time": "2024-10-31T16:49:58.323198Z",
     "start_time": "2024-10-31T16:49:58.205550Z"
    }
   },
   "cell_type": "code",
   "source": "X_train, X_test, y_train, y_test = train_test_split(X, y, shuffle=True, test_size=0.3, random_state=42)",
   "id": "7bf27ae33f6a7b71",
   "outputs": [],
   "execution_count": 31
  },
  {
   "metadata": {},
   "cell_type": "markdown",
   "source": "## Defining model",
   "id": "c2266495c9136025"
  },
  {
   "metadata": {
    "ExecuteTime": {
     "end_time": "2024-10-31T16:56:31.122615Z",
     "start_time": "2024-10-31T16:56:31.115905Z"
    }
   },
   "cell_type": "code",
   "source": [
    "class Autoencoder(Model):\n",
    "\tdef __init__(self):\n",
    "\t\tsuper().__init__()\n",
    "\t\t\n",
    "\t\tself.encoder = Sequential([\n",
    "\t\t\tDense(64, activation='relu'),\n",
    "\t\t\tDropout(0.2),\n",
    "\t\t\tDense(32, activation='relu'),\n",
    "\t\t])\n",
    "\t\t\n",
    "\t\tself.code = Sequential([\n",
    "\t\t\tDense(16, activation='relu')\n",
    "\t\t])\n",
    "\t\t\n",
    "\t\tself.decoder = Sequential([\n",
    "\t\t\tDense(32, activation='relu'),\n",
    "\t\t\tDropout(0.2),\n",
    "\t\t\tDense(64, activation='relu'),\n",
    "\t\t\tDropout(0.2),\n",
    "\t\t\tDense(29, activation='relu')\n",
    "\t\t])\n",
    "\t\t\n",
    "\tdef call(self, inputs, *args):\n",
    "\t\tencoded_inputs = self.encoder(inputs)\n",
    "\t\tcode = self.code(encoded_inputs)\n",
    "\t\tdecoded_inputs = self.decoder(code)\n",
    "\t\treturn decoded_inputs"
   ],
   "id": "3cb8e4d28c7b393a",
   "outputs": [],
   "execution_count": 38
  },
  {
   "metadata": {},
   "cell_type": "markdown",
   "source": "## Training the model",
   "id": "1c4aa212798fbce9"
  },
  {
   "metadata": {
    "ExecuteTime": {
     "end_time": "2024-10-31T16:56:40.520811Z",
     "start_time": "2024-10-31T16:56:40.495531Z"
    }
   },
   "cell_type": "code",
   "source": [
    "model = Autoencoder()\n",
    "\n",
    "model.compile(optimizer='adam', loss='mse')"
   ],
   "id": "cc8bb81bc91d5ff0",
   "outputs": [],
   "execution_count": 40
  },
  {
   "metadata": {
    "ExecuteTime": {
     "end_time": "2024-10-31T16:59:18.711387Z",
     "start_time": "2024-10-31T16:56:41.063362Z"
    }
   },
   "cell_type": "code",
   "source": "history = model.fit(X_train, X_train, epochs=10, validation_data=(X_test, X_test))",
   "id": "3bc459684c852c19",
   "outputs": [
    {
     "name": "stdout",
     "output_type": "stream",
     "text": [
      "Epoch 1/10\n",
      "6231/6231 [==============================] - 13s 2ms/step - loss: 185.9773 - val_loss: 57.9633\n",
      "Epoch 2/10\n",
      "6231/6231 [==============================] - 14s 2ms/step - loss: 135.4563 - val_loss: 92.4637\n",
      "Epoch 3/10\n",
      "6231/6231 [==============================] - 15s 2ms/step - loss: 108.1964 - val_loss: 13.4005\n",
      "Epoch 4/10\n",
      "6231/6231 [==============================] - 17s 3ms/step - loss: 85.0210 - val_loss: 57.3752\n",
      "Epoch 5/10\n",
      "6231/6231 [==============================] - 12s 2ms/step - loss: 108.6928 - val_loss: 123.8039\n",
      "Epoch 6/10\n",
      "6231/6231 [==============================] - 13s 2ms/step - loss: 137.9747 - val_loss: 348.5968\n",
      "Epoch 7/10\n",
      "6231/6231 [==============================] - 12s 2ms/step - loss: 95.6541 - val_loss: 89.4416\n",
      "Epoch 8/10\n",
      "6231/6231 [==============================] - 37s 6ms/step - loss: 125.0446 - val_loss: 116.9790\n",
      "Epoch 9/10\n",
      "6231/6231 [==============================] - 13s 2ms/step - loss: 127.1209 - val_loss: 44.4477\n",
      "Epoch 10/10\n",
      "6231/6231 [==============================] - 12s 2ms/step - loss: 81.4020 - val_loss: 115.2099\n"
     ]
    }
   ],
   "execution_count": 41
  },
  {
   "metadata": {
    "ExecuteTime": {
     "end_time": "2024-10-31T16:59:36.498231Z",
     "start_time": "2024-10-31T16:59:36.462563Z"
    }
   },
   "cell_type": "code",
   "source": [
    "plt.plot(history.history['accuracy'], label='Training Accuracy')\n",
    "plt.plot(history.history['val_accuracy'], label='Validation Accuracy')\n",
    "plt.xlabel(\"Epochs\")\n",
    "plt.ylabel(\"Accuracy\")\n",
    "plt.legend()\n",
    "plt.show()"
   ],
   "id": "bba2a95a0af866ca",
   "outputs": [
    {
     "ename": "KeyError",
     "evalue": "'accuracy'",
     "output_type": "error",
     "traceback": [
      "\u001B[1;31m---------------------------------------------------------------------------\u001B[0m",
      "\u001B[1;31mKeyError\u001B[0m                                  Traceback (most recent call last)",
      "Cell \u001B[1;32mIn[42], line 1\u001B[0m\n\u001B[1;32m----> 1\u001B[0m plt\u001B[38;5;241m.\u001B[39mplot(history\u001B[38;5;241m.\u001B[39mhistory[\u001B[38;5;124m'\u001B[39m\u001B[38;5;124maccuracy\u001B[39m\u001B[38;5;124m'\u001B[39m], label\u001B[38;5;241m=\u001B[39m\u001B[38;5;124m'\u001B[39m\u001B[38;5;124mTraining Accuracy\u001B[39m\u001B[38;5;124m'\u001B[39m)\n\u001B[0;32m      2\u001B[0m plt\u001B[38;5;241m.\u001B[39mplot(history\u001B[38;5;241m.\u001B[39mhistory[\u001B[38;5;124m'\u001B[39m\u001B[38;5;124mval_accuracy\u001B[39m\u001B[38;5;124m'\u001B[39m], label\u001B[38;5;241m=\u001B[39m\u001B[38;5;124m'\u001B[39m\u001B[38;5;124mValidation Accuracy\u001B[39m\u001B[38;5;124m'\u001B[39m)\n\u001B[0;32m      3\u001B[0m plt\u001B[38;5;241m.\u001B[39mxlabel(\u001B[38;5;124m\"\u001B[39m\u001B[38;5;124mEpochs\u001B[39m\u001B[38;5;124m\"\u001B[39m)\n",
      "\u001B[1;31mKeyError\u001B[0m: 'accuracy'"
     ]
    }
   ],
   "execution_count": 42
  },
  {
   "metadata": {
    "ExecuteTime": {
     "end_time": "2024-10-31T16:59:47.440256Z",
     "start_time": "2024-10-31T16:59:47.338959Z"
    }
   },
   "cell_type": "code",
   "source": [
    "plt.plot(history.history['loss'], label='Training Loss')\n",
    "plt.plot(history.history['val_loss'], label='Validation Loss')\n",
    "plt.xlabel(\"Epochs\")\n",
    "plt.ylabel(\"Loss\")\n",
    "plt.legend()\n",
    "plt.show()"
   ],
   "id": "ab768f7d80c19a12",
   "outputs": [
    {
     "data": {
      "text/plain": [
       "<Figure size 640x480 with 1 Axes>"
      ],
      "image/png": "[encoded data removed]"
     },
     "metadata": {},
     "output_type": "display_data"
    }
   ],
   "execution_count": 43
  },
  {
   "metadata": {},
   "cell_type": "markdown",
   "source": "## Finding threshold for fraud transaction",
   "id": "82c51e25d784bd75"
  },
  {
   "metadata": {
    "ExecuteTime": {
     "end_time": "2024-10-31T17:01:16.958681Z",
     "start_time": "2024-10-31T17:01:16.952454Z"
    }
   },
   "cell_type": "code",
   "source": [
    "def find_threshold(autoencoder_model: Model, train_data):\n",
    "\t# Reconstruct the input using the autoencoder model\n",
    "\treconstruction = autoencoder_model.predict(train_data)\n",
    "\t\n",
    "\t# Calculate the loss\n",
    "\tloss = tf.keras.losses.msle(train_data, reconstruction)\n",
    "\t\n",
    "\t# Calculate the threshold\n",
    "\tthreshold = np.mean(loss.numpy()) + np.std(loss.numpy())\n",
    "\t\n",
    "\treturn threshold\n",
    "\n",
    "\n",
    "def get_predictions(autoencoder_model: Model, test_data, threshold):\n",
    "\t# Reconstruct the input using the autoencoder model\n",
    "\treconstruction = autoencoder_model.predict(test_data)\n",
    "\t\n",
    "\t# Calculate the loss\n",
    "\tloss = tf.keras.losses.msle(test_data, reconstruction)\n",
    "\t\n",
    "\tanomaly_mask = pd.Series(loss) > threshold\n",
    "\t\n",
    "\tpreds = anomaly_mask.map(lambda x: 0.0 if x == True else 1.0)\n",
    "\t\n",
    "\treturn preds"
   ],
   "id": "5c58a7d1dc368c3b",
   "outputs": [],
   "execution_count": 44
  },
  {
   "metadata": {
    "ExecuteTime": {
     "end_time": "2024-10-31T17:01:24.199663Z",
     "start_time": "2024-10-31T17:01:17.369650Z"
    }
   },
   "cell_type": "code",
   "source": [
    "threshold = find_threshold(model, X_train)\n",
    "print(f'Threshold: {threshold}')"
   ],
   "id": "79ebdb510494da01",
   "outputs": [
    {
     "name": "stdout",
     "output_type": "stream",
     "text": [
      "6231/6231 [==============================] - 5s 799us/step\n",
      "Threshold: 0.23399455845355988\n"
     ]
    }
   ],
   "execution_count": 45
  },
  {
   "metadata": {},
   "cell_type": "markdown",
   "source": "## Making predictions",
   "id": "eb1e55c0e708f314"
  },
  {
   "metadata": {
    "ExecuteTime": {
     "end_time": "2024-10-31T17:01:27.169227Z",
     "start_time": "2024-10-31T17:01:24.201661Z"
    }
   },
   "cell_type": "code",
   "source": [
    "y_preds = get_predictions(model, X_test, threshold)\n",
    "\n",
    "print(accuracy_score(y_test, y_preds))"
   ],
   "id": "fd7f40138991eb08",
   "outputs": [
    {
     "name": "stdout",
     "output_type": "stream",
     "text": [
      "2671/2671 [==============================] - 2s 821us/step\n",
      "0.10179886005875262\n"
     ]
    }
   ],
   "execution_count": 46
  },
  {
   "metadata": {},
   "cell_type": "markdown",
   "source": "# Using SMOTE for handling class imbalance",
   "id": "91826289c7070ffa"
  },
  {
   "metadata": {
    "ExecuteTime": {
     "end_time": "2024-10-31T15:57:07.708532Z",
     "start_time": "2024-10-31T15:57:07.704377Z"
    }
   },
   "cell_type": "code",
   "source": "from imblearn.over_sampling import SMOTE",
   "id": "43328897a013ece2",
   "outputs": [],
   "execution_count": 19
  },
  {
   "metadata": {
    "ExecuteTime": {
     "end_time": "2024-10-31T15:57:08.464872Z",
     "start_time": "2024-10-31T15:57:07.958958Z"
    }
   },
   "cell_type": "code",
   "source": [
    "smote = SMOTE(random_state=42)\n",
    "X_train_sampled, y_train_sampled = smote.fit_resample(X_train, y_train)\n",
    "\n",
    "smote = SMOTE(random_state=42)\n",
    "X_test_sampled, y_test_sampled = smote.fit_resample(X_test, y_test)"
   ],
   "id": "274a055bd85a1756",
   "outputs": [],
   "execution_count": 20
  },
  {
   "metadata": {
    "ExecuteTime": {
     "end_time": "2024-10-31T15:57:08.837526Z",
     "start_time": "2024-10-31T15:57:08.818501Z"
    }
   },
   "cell_type": "code",
   "source": [
    "model = Autoencoder()\n",
    "\n",
    "model.compile(optimizer='adam', loss='mse', metrics=['accuracy'])"
   ],
   "id": "5158321a46db7cf1",
   "outputs": [],
   "execution_count": 21
  },
  {
   "metadata": {
    "ExecuteTime": {
     "end_time": "2024-10-31T15:59:44.805506Z",
     "start_time": "2024-10-31T15:57:09.367761Z"
    }
   },
   "cell_type": "code",
   "source": "history1 = model.fit(X_train_sampled, X_train_sampled, epochs=10, validation_data=(X_test_sampled, X_test_sampled))",
   "id": "aaef5c73cd485402",
   "outputs": [
    {
     "name": "stdout",
     "output_type": "stream",
     "text": [
      "Epoch 1/10\n",
      "12438/12438 [==============================] - 16s 1ms/step - loss: 26.2095 - accuracy: 0.8671 - val_loss: 13.8113 - val_accuracy: 0.9110\n",
      "Epoch 2/10\n",
      "12438/12438 [==============================] - 15s 1ms/step - loss: 11.2592 - accuracy: 0.9307 - val_loss: 13.7872 - val_accuracy: 0.9202\n",
      "Epoch 3/10\n",
      "12438/12438 [==============================] - 15s 1ms/step - loss: 11.0653 - accuracy: 0.9305 - val_loss: 13.4958 - val_accuracy: 0.9264\n",
      "Epoch 4/10\n",
      "12438/12438 [==============================] - 15s 1ms/step - loss: 10.6492 - accuracy: 0.9425 - val_loss: 13.4008 - val_accuracy: 0.9454\n",
      "Epoch 5/10\n",
      "12438/12438 [==============================] - 18s 1ms/step - loss: 10.7330 - accuracy: 0.9460 - val_loss: 13.4401 - val_accuracy: 0.9428\n",
      "Epoch 6/10\n",
      "12438/12438 [==============================] - 16s 1ms/step - loss: 10.6636 - accuracy: 0.9473 - val_loss: 13.4262 - val_accuracy: 0.9378\n",
      "Epoch 7/10\n",
      "12438/12438 [==============================] - 15s 1ms/step - loss: 10.6734 - accuracy: 0.9495 - val_loss: 13.3728 - val_accuracy: 0.9526\n",
      "Epoch 8/10\n",
      "12438/12438 [==============================] - 15s 1ms/step - loss: 10.7281 - accuracy: 0.9473 - val_loss: 13.6574 - val_accuracy: 0.9404\n",
      "Epoch 9/10\n",
      "12438/12438 [==============================] - 15s 1ms/step - loss: 10.6852 - accuracy: 0.9445 - val_loss: 13.6982 - val_accuracy: 0.9430\n",
      "Epoch 10/10\n",
      "12438/12438 [==============================] - 15s 1ms/step - loss: 10.5866 - accuracy: 0.9474 - val_loss: 13.6621 - val_accuracy: 0.9411\n"
     ]
    }
   ],
   "execution_count": 22
  },
  {
   "metadata": {
    "ExecuteTime": {
     "end_time": "2024-10-31T15:59:48.060070Z",
     "start_time": "2024-10-31T15:59:47.966451Z"
    }
   },
   "cell_type": "code",
   "source": [
    "plt.plot(history1.history['accuracy'], label='Training Accuracy')\n",
    "plt.plot(history1.history['val_accuracy'], label='Validation Accuracy')\n",
    "plt.xlabel(\"Epochs\")\n",
    "plt.ylabel(\"Accuracy\")\n",
    "plt.legend()\n",
    "plt.show()"
   ],
   "id": "cee1b1172aef1885",
   "outputs": [
    {
     "data": {
      "text/plain": [
       "<Figure size 640x480 with 1 Axes>"
      ],
      "image/png": "[encoded data removed]"
     },
     "metadata": {},
     "output_type": "display_data"
    }
   ],
   "execution_count": 23
  },
  {
   "metadata": {
    "ExecuteTime": {
     "end_time": "2024-10-31T15:59:50.196888Z",
     "start_time": "2024-10-31T15:59:50.112640Z"
    }
   },
   "cell_type": "code",
   "source": [
    "plt.plot(history1.history['loss'], label='Training Loss')\n",
    "plt.plot(history1.history['val_loss'], label='Validation Loss')\n",
    "plt.xlabel(\"Epochs\")\n",
    "plt.ylabel(\"Loss\")\n",
    "plt.legend()\n",
    "plt.show()"
   ],
   "id": "cbe19822b28b4779",
   "outputs": [
    {
     "data": {
      "text/plain": [
       "<Figure size 640x480 with 1 Axes>"
      ],
      "image/png": "[encoded data removed]"
     },
     "metadata": {},
     "output_type": "display_data"
    }
   ],
   "execution_count": 24
  },
  {
   "metadata": {
    "ExecuteTime": {
     "end_time": "2024-10-31T16:00:06.345075Z",
     "start_time": "2024-10-31T15:59:53.599540Z"
    }
   },
   "cell_type": "code",
   "source": [
    "threshold = find_threshold(model, X_train_sampled)\n",
    "print(f'Threshold: {threshold}')"
   ],
   "id": "be649d51beb6f760",
   "outputs": [
    {
     "name": "stdout",
     "output_type": "stream",
     "text": [
      "12438/12438 [==============================] - 9s 696us/step\n",
      "Threshold: 0.14403237402439117\n"
     ]
    }
   ],
   "execution_count": 25
  },
  {
   "metadata": {
    "ExecuteTime": {
     "end_time": "2024-10-31T16:00:11.887875Z",
     "start_time": "2024-10-31T16:00:09.322677Z"
    }
   },
   "cell_type": "code",
   "source": [
    "y_preds = get_predictions(model, X_test, threshold)\n",
    "print(accuracy_score(y_test, y_preds))"
   ],
   "id": "2fdd07419de24c9f",
   "outputs": [
    {
     "name": "stdout",
     "output_type": "stream",
     "text": [
      "2671/2671 [==============================] - 2s 663us/step\n",
      "0.14154465550132836\n"
     ]
    }
   ],
   "execution_count": 26
  },
  {
   "metadata": {},
   "cell_type": "code",
   "outputs": [],
   "execution_count": null,
   "source": "",
   "id": "3e8484d9d0555905"
  }
 ],
 "metadata": {
  "kernelspec": {
   "display_name": "Python 3",
   "language": "python",
   "name": "python3"
  },
  "language_info": {
   "codemirror_mode": {
    "name": "ipython",
    "version": 2
   },
   "file_extension": ".py",
   "mimetype": "text/x-python",
   "name": "python",
   "nbconvert_exporter": "python",
   "pygments_lexer": "ipython2",
   "version": "2.7.6"
  }
 },
 "nbformat": 4,
 "nbformat_minor": 5
}
